{
 "metadata": {
  "name": "V150"
 },
 "nbformat": 3,
 "nbformat_minor": 0,
 "worksheets": [
  {
   "cells": [
    {
     "cell_type": "code",
     "collapsed": false,
     "input": [
      "%pylab inline"
     ],
     "language": "python",
     "metadata": {},
     "outputs": [
      {
       "output_type": "stream",
       "stream": "stdout",
       "text": [
        "\n",
        "Welcome to pylab, a matplotlib-based Python environment [backend: module://IPython.zmq.pylab.backend_inline].\n",
        "For more information, type 'help(pylab)'.\n"
       ]
      }
     ],
     "prompt_number": 1
    },
    {
     "cell_type": "markdown",
     "metadata": {},
     "source": [
      "#Reading the data"
     ]
    },
    {
     "cell_type": "code",
     "collapsed": false,
     "input": [
      "def definig_data(v, tau):\n",
      "    #data path\n",
      "    data_dir = \"../data/Homogeneous/\"\n",
      "    filename_v_tau = \"6RotatingV\"+v+\"Sphere\"+ tau +\"HOM_in.dat\"\n",
      "    filenameOUT_v_tau = \"6RotatingV\"+v+\"Sphere\"+ tau +\"HOM_out.dat\"\n",
      "    \n",
      "    #cleaning data\n",
      "    datoslyman_v_tau = np.loadtxt(data_dir+filename_v_tau, comments = '#')\n",
      "    datoslymanOUT_v_tau = np.loadtxt(data_dir+filenameOUT_v_tau, comments = '#')\n",
      "    initpos=datoslymanOUT_v_tau[:,0]\n",
      "    index_clean = where(~np.isnan(initpos))\n",
      "    datoslymanOUT_v_tau = datoslymanOUT_v_tau[index_clean[0],:]\n",
      "    datoslyman_v_tau = datoslyman_v_tau[index_clean[0],:]\n",
      "    \n",
      "    #Defining cuantites\n",
      "    x_v_tau = datoslymanOUT_v_tau[:,6]\n",
      "    X_v_tau = datoslyman_v_tau[:,0]\n",
      "    Y_v_tau = datoslyman_v_tau[:,1]\n",
      "    Z_v_tau = datoslyman_v_tau[:,2]\n",
      "    kx_v_tau = datoslymanOUT_v_tau[:,3]\n",
      "    ky_v_tau = datoslymanOUT_v_tau[:,4]\n",
      "    kz_v_tau = datoslymanOUT_v_tau[:,5]\n",
      "    \n",
      "    norm = amax(np.sqrt(X_v_tau**2 + Y_v_tau**2 + Z_v_tau**2))\n",
      "    X_v_tau = X_v_tau / norm\n",
      "    Y_v_tau = Y_v_tau / norm\n",
      "    Z_v_tau = Z_v_tau / norm\n",
      "    \n",
      "    return (x_v_tau, X_v_tau, Y_v_tau, Z_v_tau, kx_v_tau, ky_v_tau, kz_v_tau)"
     ],
     "language": "python",
     "metadata": {},
     "outputs": [],
     "prompt_number": 2
    },
    {
     "cell_type": "code",
     "collapsed": false,
     "input": [
      "x_150_6t_6, X_150_6t_6, Y_150_6t_6, Z_150_6t_6, kx_150_6t_6, ky_150_6t_6, kz_150_6t_6 = definig_data('150', '6t')"
     ],
     "language": "python",
     "metadata": {},
     "outputs": [],
     "prompt_number": 3
    },
    {
     "cell_type": "markdown",
     "metadata": {},
     "source": [
      "#Selecting off-center photons"
     ]
    },
    {
     "cell_type": "code",
     "collapsed": false,
     "input": [
      "def offcenter_ZZ(xV, XV, YV, ZV, kxV, kyV, kzV, V, R, D2R):\n",
      "    selected = where( ((ZV <= np.sqrt(R**2 - (XV-D2R)**2 - YV**2))  & (ZV >= 0.0) ) |\n",
      "                    ( (ZV >= -np.sqrt(R**2 - (XV-D2R)**2 - YV**2))  & (ZV <= 0.0)) )\n",
      "    \n",
      "    xV_selected = xV[selected]\n",
      "    new_XV = XV[selected]\n",
      "    new_YV = YV[selected]\n",
      "    new_ZV = ZV[selected]\n",
      "    #new_wV = weightV[selected]\n",
      "    new_xV = xV[selected]\n",
      "    new_kxV = kxV[selected]\n",
      "    new_kyV = kyV[selected]\n",
      "    new_kzV = kzV[selected]\n",
      "    \n",
      "    return [xV_selected, new_XV, new_YV, new_ZV, new_kxV, new_kyV, new_kzV, new_xV]"
     ],
     "language": "python",
     "metadata": {},
     "outputs": [],
     "prompt_number": 4
    },
    {
     "cell_type": "code",
     "collapsed": false,
     "input": [
      "x150, X150, Y150, Z150, kx150, ky150, kz150, x150 = offcenter_ZZ(x_150_6t_6, X_150_6t_6, Y_150_6t_6, Z_150_6t_6, kx_150_6t_6, ky_150_6t_6, kz_150_6t_6, 150, 0.5, 0.5)\n",
      "    "
     ],
     "language": "python",
     "metadata": {},
     "outputs": [],
     "prompt_number": 11
    },
    {
     "cell_type": "markdown",
     "metadata": {},
     "source": [
      "# Making the Histogram "
     ]
    },
    {
     "cell_type": "code",
     "collapsed": false,
     "input": [
      "# ZZ implementation\n",
      "def get_mu_histo(kx, ky, kz, theta):\n",
      "    R = np.array([0, sin(theta), cos(theta)]) # Observer line of sight (LOS)\n",
      "    mu = kx*R[0] + ky*R[1] + kz*R[2] # Dot prodcut between observer LOS and photons direcitions.\n",
      "    n_bins = 12 \n",
      "    delta_mu = 2.0/n_bins\n",
      "    histo, bin_edges = histogram(mu, bins=n_bins)\n",
      "    histo = 2.0*histo/(delta_mu*size(mu))\n",
      "    return [histo, bin_edges, mu]"
     ],
     "language": "python",
     "metadata": {},
     "outputs": [],
     "prompt_number": 6
    },
    {
     "cell_type": "markdown",
     "metadata": {},
     "source": [
      "#Selecting Photons with with the appropiate mu\n",
      "\n",
      "Si $\\mu$ es cerca a 1 seleccionare fotones que salen casi paralelos a LOS, si es cerca a 0 son los que son casi perpendiculares. en general quiero los que son paralelos al LOS por que son los se observaran en un telescopio!"
     ]
    },
    {
     "cell_type": "code",
     "collapsed": false,
     "input": [
      "def get_mu(X, Y, Z, xV, a, b, theta): \n",
      "    x, y, mu = get_mu_histo(X, Y, Z, theta)\n",
      "    selected = where((abs(mu)>a) & (abs(mu)<b))\n",
      "    new_xV = xV[selected]\n",
      "    return new_xV"
     ],
     "language": "python",
     "metadata": {},
     "outputs": [],
     "prompt_number": 7
    },
    {
     "cell_type": "code",
     "collapsed": false,
     "input": [
      "x150 = get_mu(kx150, ky150, kz150, x150, 0.8, 1.0, pi/2.0)\n",
      "len(x150)"
     ],
     "language": "python",
     "metadata": {},
     "outputs": [
      {
       "output_type": "pyout",
       "prompt_number": 8,
       "text": [
        "15220"
       ]
      }
     ],
     "prompt_number": 8
    },
    {
     "cell_type": "code",
     "collapsed": false,
     "input": [
      "histo, bin_edges = histogram(x150, bins=30, density = True)"
     ],
     "language": "python",
     "metadata": {},
     "outputs": [],
     "prompt_number": 9
    },
    {
     "cell_type": "code",
     "collapsed": false,
     "input": [
      "plot(bin_edges[0:-1], histo, color = 'k', linewidth=1.5, linestyle = '-')"
     ],
     "language": "python",
     "metadata": {},
     "outputs": [
      {
       "output_type": "pyout",
       "prompt_number": 10,
       "text": [
        "[<matplotlib.lines.Line2D at 0x1c993790>]"
       ]
      },
      {
       "output_type": "display_data",
       "png": "[encoded data removed]"
      }
     ],
     "prompt_number": 10
    },
    {
     "cell_type": "code",
     "collapsed": false,
     "input": [],
     "language": "python",
     "metadata": {},
     "outputs": []
    }
   ],
   "metadata": {}
  }
 ]
}