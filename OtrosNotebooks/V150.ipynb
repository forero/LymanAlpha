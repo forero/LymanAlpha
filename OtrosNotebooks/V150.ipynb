{
 "metadata": {
  "name": "",
  "signature": "sha256:fcb2be8c6f2b89db9ffb1fb294c909e63853118dce858e6e23986e7c1ec3b7de"
 },
 "nbformat": 3,
 "nbformat_minor": 0,
 "worksheets": [
  {
   "cells": [
    {
     "cell_type": "code",
     "collapsed": false,
     "input": [
      "%pylab inline"
     ],
     "language": "python",
     "metadata": {},
     "outputs": [
      {
       "output_type": "stream",
       "stream": "stdout",
       "text": [
        "Populating the interactive namespace from numpy and matplotlib\n"
       ]
      }
     ],
     "prompt_number": 1
    },
    {
     "cell_type": "markdown",
     "metadata": {},
     "source": [
      "#Reading the data"
     ]
    },
    {
     "cell_type": "code",
     "collapsed": false,
     "input": [
      "def definig_data(v, tau):\n",
      "    #data path\n",
      "    data_dir = \"./data/Homogeneous/\"\n",
      "    filename_v_tau = \"6RotatingV\"+v+\"Sphere\"+ tau +\"HOM_in.dat\"\n",
      "    filenameOUT_v_tau = \"6RotatingV\"+v+\"Sphere\"+ tau +\"HOM_out.dat\"\n",
      "    \n",
      "    #cleaning data\n",
      "    datoslyman_v_tau = np.loadtxt(data_dir+filename_v_tau, comments = '#')\n",
      "    datoslymanOUT_v_tau = np.loadtxt(data_dir+filenameOUT_v_tau, comments = '#')\n",
      "    initpos=datoslymanOUT_v_tau[:,0]\n",
      "    index_clean = where(~np.isnan(initpos))\n",
      "    datoslymanOUT_v_tau = datoslymanOUT_v_tau[index_clean[0],:]\n",
      "    datoslyman_v_tau = datoslyman_v_tau[index_clean[0],:]\n",
      "    \n",
      "    #Defining cuantites\n",
      "    x_v_tau = datoslymanOUT_v_tau[:,6]\n",
      "    X_v_tau = datoslyman_v_tau[:,0]\n",
      "    Y_v_tau = datoslyman_v_tau[:,1]\n",
      "    Z_v_tau = datoslyman_v_tau[:,2]\n",
      "    kx_v_tau = datoslymanOUT_v_tau[:,3]\n",
      "    ky_v_tau = datoslymanOUT_v_tau[:,4]\n",
      "    kz_v_tau = datoslymanOUT_v_tau[:,5]\n",
      "    \n",
      "    norm = amax(np.sqrt(X_v_tau**2 + Y_v_tau**2 + Z_v_tau**2))\n",
      "    X_v_tau = X_v_tau / norm\n",
      "    Y_v_tau = Y_v_tau / norm\n",
      "    Z_v_tau = Z_v_tau / norm\n",
      "    \n",
      "    return (x_v_tau, X_v_tau, Y_v_tau, Z_v_tau, kx_v_tau, ky_v_tau, kz_v_tau)"
     ],
     "language": "python",
     "metadata": {},
     "outputs": [],
     "prompt_number": 23
    },
    {
     "cell_type": "code",
     "collapsed": false,
     "input": [
      "x_150_6t_6, X_150_6t_6, Y_150_6t_6, Z_150_6t_6, kx_150_6t_6, ky_150_6t_6, kz_150_6t_6 = definig_data('150', '6t')"
     ],
     "language": "python",
     "metadata": {},
     "outputs": [],
     "prompt_number": 24
    },
    {
     "cell_type": "markdown",
     "metadata": {},
     "source": [
      "#Selecting off-center photons"
     ]
    },
    {
     "cell_type": "code",
     "collapsed": false,
     "input": [
      "def offcenter_ZZ(xV, XV, YV, ZV, kxV, kyV, kzV, V, R, D2R):\n",
      "    selected = where( ((ZV <= np.sqrt(R**2 - (XV-D2R)**2 - YV**2))  & (ZV >= 0.0) ) |\n",
      "                    ( (ZV >= -np.sqrt(R**2 - (XV-D2R)**2 - YV**2))  & (ZV <= 0.0)) )\n",
      "    \n",
      "    xV_selected = xV[selected]\n",
      "    new_XV = XV[selected]\n",
      "    new_YV = YV[selected]\n",
      "    new_ZV = ZV[selected]\n",
      "    #new_wV = weightV[selected]\n",
      "    new_xV = xV[selected]\n",
      "    new_kxV = kxV[selected]\n",
      "    new_kyV = kyV[selected]\n",
      "    new_kzV = kzV[selected]\n",
      "    \n",
      "    return [xV_selected, new_XV, new_YV, new_ZV, new_kxV, new_kyV, new_kzV, new_xV]"
     ],
     "language": "python",
     "metadata": {},
     "outputs": [],
     "prompt_number": 25
    },
    {
     "cell_type": "code",
     "collapsed": false,
     "input": [
      "off=0.75\n",
      "\n",
      "x150, X150, Y150, Z150, kx150, ky150, kz150, x150 = offcenter_ZZ(x_150_6t_6, X_150_6t_6, Y_150_6t_6, Z_150_6t_6, kx_150_6t_6, ky_150_6t_6, kz_150_6t_6, 150, off, off)"
     ],
     "language": "python",
     "metadata": {},
     "outputs": [],
     "prompt_number": 213
    },
    {
     "cell_type": "markdown",
     "metadata": {},
     "source": [
      "# Making the Histogram "
     ]
    },
    {
     "cell_type": "code",
     "collapsed": false,
     "input": [
      "# ZZ implementation\n",
      "def get_mu_histo(kx, ky, kz, theta):\n",
      "    R = np.array([0, sin(theta), cos(theta)]) # Observer line of sight (LOS)\n",
      "    mu = kx*R[0] + ky*R[1] + kz*R[2] # Dot prodcut between observer LOS and photons direcitions.\n",
      "    n_bins = 12 \n",
      "    delta_mu = 2.0/n_bins\n",
      "    histo, bin_edges = histogram(mu, bins=n_bins)\n",
      "    histo = 2.0*histo/(delta_mu*size(mu))\n",
      "    return [histo, bin_edges, mu]"
     ],
     "language": "python",
     "metadata": {},
     "outputs": [],
     "prompt_number": 214
    },
    {
     "cell_type": "markdown",
     "metadata": {},
     "source": [
      "#Selecting Photons with with the appropiate mu\n",
      "\n",
      "Si $\\mu$ es cerca a 1 seleccionare fotones que salen casi paralelos a LOS, si es cerca a 0 son los que son casi perpendiculares. en general quiero los que son paralelos al LOS por que son los se observaran en un telescopio!"
     ]
    },
    {
     "cell_type": "code",
     "collapsed": false,
     "input": [
      "def get_mu(X, Y, Z, xV, a, b, theta): \n",
      "    x, y, mu = get_mu_histo(X, Y, Z, theta)\n",
      "    selected = where((abs(mu)>a) & (abs(mu)<b))\n",
      "    new_xV = xV[selected]\n",
      "    return new_xV"
     ],
     "language": "python",
     "metadata": {},
     "outputs": [],
     "prompt_number": 215
    },
    {
     "cell_type": "code",
     "collapsed": false,
     "input": [
      "x150 = get_mu(kx150, ky150, kz150, x150, 0.75, 1.0, pi/2.0)\n",
      "len(x150)"
     ],
     "language": "python",
     "metadata": {},
     "outputs": [
      {
       "metadata": {},
       "output_type": "pyout",
       "prompt_number": 216,
       "text": [
        "59147"
       ]
      }
     ],
     "prompt_number": 216
    },
    {
     "cell_type": "code",
     "collapsed": false,
     "input": [
      "histo, bin_edges = histogram(x150, bins=30, density = True)"
     ],
     "language": "python",
     "metadata": {},
     "outputs": [],
     "prompt_number": 217
    },
    {
     "cell_type": "code",
     "collapsed": false,
     "input": [
      "plot(bin_edges[0:-1], histo)"
     ],
     "language": "python",
     "metadata": {},
     "outputs": [
      {
       "metadata": {},
       "output_type": "pyout",
       "prompt_number": 218,
       "text": [
        "[<matplotlib.lines.Line2D at 0x11f0f890>]"
       ]
      },
      {
       "metadata": {},
       "output_type": "display_data",
       "png": "[encoded data removed]",
       "text": [
        "<matplotlib.figure.Figure at 0x70be390>"
       ]
      }
     ],
     "prompt_number": 218
    },
    {
     "cell_type": "code",
     "collapsed": false,
     "input": [
      "num_puntos=len(histo)\n",
      "guardar=zeros((num_puntos,2))\n",
      "\n",
      "guardar[:,0]=bin_edges[:30]\n",
      "guardar[:,1]=histo\n",
      "\n",
      "filename='./data/V150/offcenter_'+str(off)+'.dat'\n",
      "\n",
      "savetxt(filename,guardar)"
     ],
     "language": "python",
     "metadata": {},
     "outputs": [],
     "prompt_number": 219
    },
    {
     "cell_type": "code",
     "collapsed": false,
     "input": [],
     "language": "python",
     "metadata": {},
     "outputs": []
    }
   ],
   "metadata": {}
  }
 ]
}