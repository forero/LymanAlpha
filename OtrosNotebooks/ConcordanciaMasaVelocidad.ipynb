{
 "metadata": {
  "name": "",
  "signature": "sha256:b3e3de9ab0ae4ed7f60262df639e705299797a365a146321cf379f1085b30e3b"
 },
 "nbformat": 3,
 "nbformat_minor": 0,
 "worksheets": [
  {
   "cells": [
    {
     "cell_type": "code",
     "collapsed": false,
     "input": [
      "%pylab inline"
     ],
     "language": "python",
     "metadata": {},
     "outputs": [
      {
       "output_type": "stream",
       "stream": "stdout",
       "text": [
        "Populating the interactive namespace from numpy and matplotlib\n"
       ]
      }
     ],
     "prompt_number": 1
    },
    {
     "cell_type": "heading",
     "level": 4,
     "metadata": {},
     "source": [
      "La relacion Barionica de Tully Fischer esta dada por: $log(M) = 3.93log(V) + 1.80$, donde M esta en masas solares y V en km/s (Stark, McGaugh, & Swaters (2009 AJ, 138, 392))"
     ]
    },
    {
     "cell_type": "code",
     "collapsed": false,
     "input": [
      "def bartullyfischer(logvel):\n",
      "    logM=3.93*logvel+1.80\n",
      "    return logM"
     ],
     "language": "python",
     "metadata": {},
     "outputs": [],
     "prompt_number": 6
    },
    {
     "cell_type": "code",
     "collapsed": false,
     "input": [
      "logsV=logspace(10, 10**3, 100)\n",
      "logsM=bartullyfischer(logsV)"
     ],
     "language": "python",
     "metadata": {},
     "outputs": [],
     "prompt_number": 7
    },
    {
     "cell_type": "code",
     "collapsed": false,
     "input": [
      "plot(logsV,logsM)"
     ],
     "language": "python",
     "metadata": {},
     "outputs": [
      {
       "metadata": {},
       "output_type": "pyout",
       "prompt_number": 8,
       "text": [
        "[<matplotlib.lines.Line2D at 0x3dabad0>]"
       ]
      },
      {
       "metadata": {},
       "output_type": "display_data",
       "png": "[encoded data removed]",
       "text": [
        "<matplotlib.figure.Figure at 0x3cee2d0>"
       ]
      }
     ],
     "prompt_number": 8
    },
    {
     "cell_type": "code",
     "collapsed": false,
     "input": [
      "def dar_masa(radio, tau):\n",
      "\n",
      "    #en kg\n",
      "    masa_hidrogeno=1.67372*(10**-27)\n",
      "    \n",
      "    #Genero una caja de lado 2r con(2tau)**3 puntos distribuidos uniformemente\n",
      "    xs=linspace(-r,r,2*tau)\n",
      "    ys=linspace(-r,r,2*tau)\n",
      "    zs=linspace(-r,r,2*tau)\n",
      "    \n",
      "    #Saco el num de puntos adentro de una esfera de radio r\n",
      "    index=where(sqrt(xs**2+ys**2+zs**2)<r)\n",
      "    \n",
      "    num_atomos=len(index[0])\n",
      "    masa=masa_hidrogeno*num_atomos\n",
      "    \n",
      "    return masa"
     ],
     "language": "python",
     "metadata": {},
     "outputs": [],
     "prompt_number": 20
    },
    {
     "cell_type": "code",
     "collapsed": false,
     "input": [
      "#Datos(En SI):\n",
      "\n",
      "r=4.629*(10**20)\n",
      "tau=10**6\n",
      "velocidad=150\n",
      "masa=dar_masa(r,tau)\n",
      "\n",
      "#Masa en masas solares\n",
      "masa_ms=masa/(1.9891*(10**30))"
     ],
     "language": "python",
     "metadata": {},
     "outputs": [],
     "prompt_number": 24
    },
    {
     "cell_type": "code",
     "collapsed": false,
     "input": [
      "plot(logsV,logsM)\n",
      "print log(velocidad),log(masa_ms)\n",
      "scatter(log(velocidad),log(masa_ms),c='red')"
     ],
     "language": "python",
     "metadata": {},
     "outputs": [
      {
       "output_type": "stream",
       "stream": "stdout",
       "text": [
        "5.0106352941 -117.460632754\n"
       ]
      },
      {
       "metadata": {},
       "output_type": "pyout",
       "prompt_number": 38,
       "text": [
        "<matplotlib.collections.PathCollection at 0x494cf50>"
       ]
      },
      {
       "metadata": {},
       "output_type": "display_data",
       "png": "[encoded data removed]",
       "text": [
        "<matplotlib.figure.Figure at 0x3d3fc10>"
       ]
      }
     ],
     "prompt_number": 38
    },
    {
     "cell_type": "code",
     "collapsed": false,
     "input": [],
     "language": "python",
     "metadata": {},
     "outputs": []
    }
   ],
   "metadata": {}
  }
 ]
}