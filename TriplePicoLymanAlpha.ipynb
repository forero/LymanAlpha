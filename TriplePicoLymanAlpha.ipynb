{
 "metadata": {
  "name": "",
  "signature": "sha256:2601e4169b055b18733e32ed722d0ba98cd74209a7bdd2f5c47f9689507206be"
 },
 "nbformat": 3,
 "nbformat_minor": 0,
 "worksheets": [
  {
   "cells": [
    {
     "cell_type": "code",
     "collapsed": false,
     "input": [
      "%pylab inline"
     ],
     "language": "python",
     "metadata": {},
     "outputs": [
      {
       "output_type": "stream",
       "stream": "stdout",
       "text": [
        "Populating the interactive namespace from numpy and matplotlib\n"
       ]
      }
     ],
     "prompt_number": 82
    },
    {
     "cell_type": "code",
     "collapsed": false,
     "input": [
      "#Importo datos\n",
      "\n",
      "puntosJN = loadtxt('./data/V150OC075.dat')\n",
      "puntosKulas = loadtxt('./data/kulas.dat')\n",
      "\n",
      "numPuntosJN = len(puntosJN)\n",
      "numPuntosK = len(puntosKulas)"
     ],
     "language": "python",
     "metadata": {},
     "outputs": [],
     "prompt_number": 83
    },
    {
     "cell_type": "code",
     "collapsed": false,
     "input": [
      "#Funciones\n",
      "\n",
      "def vreal(v_obs,redshift):\n",
      "    return v_obs/(redshift+1)"
     ],
     "language": "python",
     "metadata": {},
     "outputs": [],
     "prompt_number": 84
    },
    {
     "cell_type": "code",
     "collapsed": false,
     "input": [
      "#Redshift\n",
      "z=2.3125\n",
      "\n",
      "#Nuevos puntos con redshift corregido\n",
      "puntosK=zeros((numPuntosK,2))\n",
      "\n",
      "for i in range(numPuntosK):\n",
      "    fila=puntosKulas[i,:]\n",
      "    ind0=(i,0)\n",
      "    ind1=(i,1)\n",
      "    puntosK[ind0]=vreal(fila[0],z)\n",
      "    puntosK[ind1]=fila[1]\n",
      "\n",
      "#Lo desplazo tq el pico central quede en v=0\n",
      "indPicoCentralK=argmax(puntosK[:,1])\n",
      "vPicoCentralK=puntosK[(indPicoCentralK,0)]\n",
      "puntosK[:,0]-=vPicoCentralK\n",
      "\n",
      "#Convierto los x's de JN en velocidades 128km/s=10 (en x) \n",
      "factorMult=128/10\n",
      "for i in range(numPuntosJN):\n",
      "    puntosJN[(i,0)]*=factorMult\n",
      "\n",
      "#Aumento las intensidades de puntosJN tal que los picos centrales coincidan\n",
      "iPicoCentralK=puntosK[(indPicoCentralK,1)]\n",
      "iPicoCentralJN=amax(puntosJN[:,1])\n",
      "factorMult=iPicoCentralK/iPicoCentralJN\n",
      "\n",
      "for i in range(numPuntosJN):\n",
      "    puntosJN[(i,1)]*=factorMult\n",
      "\n",
      "plot(puntosK[:,0],puntosK[:,1], color='red')\n",
      "plot(puntosJN[:,0],puntosJN[:,1])"
     ],
     "language": "python",
     "metadata": {},
     "outputs": [
      {
       "metadata": {},
       "output_type": "pyout",
       "prompt_number": 85,
       "text": [
        "[<matplotlib.lines.Line2D at 0x55f4150>]"
       ]
      },
      {
       "metadata": {},
       "output_type": "display_data",
       "png": "[encoded data removed]",
       "text": [
        "<matplotlib.figure.Figure at 0x55deb90>"
       ]
      }
     ],
     "prompt_number": 85
    },
    {
     "cell_type": "code",
     "collapsed": false,
     "input": [],
     "language": "python",
     "metadata": {},
     "outputs": []
    }
   ],
   "metadata": {}
  }
 ]
}