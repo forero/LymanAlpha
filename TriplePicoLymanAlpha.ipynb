{
 "metadata": {
  "name": "",
  "signature": "sha256:9474cbc1f951c407b673b0455b2cb64de2d3c1f13c90e902c5e6ffa6a5a5ada7"
 },
 "nbformat": 3,
 "nbformat_minor": 0,
 "worksheets": [
  {
   "cells": [
    {
     "cell_type": "code",
     "collapsed": false,
     "input": [
      "%pylab inline"
     ],
     "language": "python",
     "metadata": {},
     "outputs": [
      {
       "output_type": "stream",
       "stream": "stdout",
       "text": [
        "Populating the interactive namespace from numpy and matplotlib\n"
       ]
      }
     ],
     "prompt_number": 2
    },
    {
     "cell_type": "code",
     "collapsed": false,
     "input": [
      "#Funciones\n",
      "\n",
      "def vreal(v_obs,redshift):\n",
      "    return v_obs/(redshift+1)"
     ],
     "language": "python",
     "metadata": {},
     "outputs": [],
     "prompt_number": 3
    },
    {
     "cell_type": "code",
     "collapsed": false,
     "input": [
      "#Datos Kulas(v en km/s, F en 10\u207b\u00b2\u2079*erg*cm\u207b\u00b2) y JN (v en km/s, I en unidades arbitrarias)\n",
      "\n",
      "z=2.3125\n",
      "\n",
      "v_obs1=-42\n",
      "v_obs2=542\n",
      "v_obs3=1051\n",
      "\n",
      "v_kulas=zeros(3)\n",
      "F_kulas=zeros(3)\n",
      "v_JN=zeros(3)\n",
      "I_JN=zeros(3)\n",
      "\n",
      "v_kulas[0]=vreal(v_obs1,z)-vreal(v_obs2,z)\n",
      "v_kulas[1]=vreal(v_obs2,z)-vreal(v_obs2,z)\n",
      "v_kulas[2]=vreal(v_obs3,z)-vreal(v_obs2,z)\n",
      "\n",
      "F_kulas[0]=4.4\n",
      "F_kulas[1]=4.75\n",
      "F_kulas[2]=2.7\n",
      "\n",
      "v_JN[0]=-170\n",
      "v_JN[1]=0\n",
      "v_JN[2]=190\n",
      "\n",
      "I_JN[0]=0.37*10\n",
      "I_JN[1]=0.47*10\n",
      "I_JN[2]=0.32*10"
     ],
     "language": "python",
     "metadata": {},
     "outputs": [],
     "prompt_number": 16
    },
    {
     "cell_type": "code",
     "collapsed": false,
     "input": [
      "print v_kulas, F_kulas\n",
      "print v_JN, I_JN\n",
      "\n",
      "plot(v_kulas,F_kulas, color='red')\n",
      "plot(v_JN,I_JN)"
     ],
     "language": "python",
     "metadata": {},
     "outputs": [
      {
       "output_type": "stream",
       "stream": "stdout",
       "text": [
        "[-176.30188679    0.          153.66037736] [ 4.4   4.75  2.7 ]\n",
        "[-170.    0.  190.] [ 3.7  4.7  3.2]\n"
       ]
      },
      {
       "metadata": {},
       "output_type": "pyout",
       "prompt_number": 17,
       "text": [
        "[<matplotlib.lines.Line2D at 0x40386d0>]"
       ]
      },
      {
       "metadata": {},
       "output_type": "display_data",
       "png": "[encoded data removed]",
       "text": [
        "<matplotlib.figure.Figure at 0x3b0ef50>"
       ]
      }
     ],
     "prompt_number": 17
    },
    {
     "cell_type": "code",
     "collapsed": false,
     "input": [],
     "language": "python",
     "metadata": {},
     "outputs": []
    }
   ],
   "metadata": {}
  }
 ]
}